{
 "cells": [
  {
   "cell_type": "markdown",
   "id": "a0bf327f",
   "metadata": {},
   "source": [
    "# Simple codes"
   ]
  },
  {
   "cell_type": "code",
   "execution_count": 1,
   "id": "5bc148af",
   "metadata": {},
   "outputs": [
    {
     "name": "stdout",
     "output_type": "stream",
     "text": [
      "15\n",
      "6\n",
      "14\n",
      "[7, 8]\n"
     ]
    }
   ],
   "source": [
    "from functools import reduce\n",
    "import re\n",
    "li = [1, 2, 3, 4, 5]\n",
    "s = reduce((lambda a, b: a + b), li)\n",
    "print(s)\n",
    "\n",
    "st = \"Hello vamshlllli\"\n",
    "f = re.findall(\"l\", st)\n",
    "print(len(f))\n",
    "g = \"78\"\n",
    "a = max(g)\n",
    "b = max(str(ord(\"A\")))\n",
    "print(int(a)+int(b))\n",
    "li = []\n",
    "for i in g:\n",
    "    li.append(int(i))\n",
    "print(li)"
   ]
  },
  {
   "cell_type": "markdown",
   "id": "8511caa8",
   "metadata": {},
   "source": [
    "# File Operations"
   ]
  },
  {
   "cell_type": "code",
   "execution_count": 2,
   "id": "19631b44",
   "metadata": {},
   "outputs": [
    {
     "name": "stdout",
     "output_type": "stream",
     "text": [
      "Hello Vamshi Krishna\n",
      "    How are you man\n",
      "    What's upp\n",
      "['Hello Vamshi Krishna', 'How are you man', \"What's upp\"]\n",
      "True\n"
     ]
    }
   ],
   "source": [
    "with open(\"t1.txt\", 'w') as f:\n",
    "    f.write(\"\"\"Hello Vamshi Krishna\n",
    "    How are you man\n",
    "    What's upp\"\"\")\n",
    "f = open(\"t1.txt\", 'r')\n",
    "print(f.read())\n",
    "f.close()\n",
    "li = []\n",
    "with open(\"t1.txt\", 'r') as f:\n",
    "    r = f.readlines() # return in list\n",
    "    for i in r:\n",
    "        li.append(i.strip())\n",
    "f.close()\n",
    "print(li)\n",
    "a = \"Hello55\"\n",
    "print(a.isalnum())"
   ]
  },
  {
   "cell_type": "markdown",
   "id": "96881f91",
   "metadata": {},
   "source": [
    "# Word Count"
   ]
  },
  {
   "cell_type": "code",
   "execution_count": 3,
   "id": "23a74d53",
   "metadata": {},
   "outputs": [
    {
     "name": "stdout",
     "output_type": "stream",
     "text": [
      "2\n",
      "vamshi 2\n",
      "krishna 3\n",
      "kalyan 1\n",
      "smart 1\n",
      "vamshikrishnakalyansmart\n"
     ]
    }
   ],
   "source": [
    "string = \"vamshi krishna vamshi kalyan smart krishna krishna\"\n",
    "li = string.split(' ')\n",
    "print(li.count(\"vamshi\"))\n",
    "s = \"\"\n",
    "for i in li:\n",
    "    count = 0\n",
    "    if i not in s:\n",
    "        for j in li:\n",
    "            if i == j:\n",
    "                count += 1\n",
    "        s += i\n",
    "        print(i, count)\n",
    "print(s)\n"
   ]
  },
  {
   "cell_type": "markdown",
   "id": "b9d80c22",
   "metadata": {},
   "source": [
    "# Remove name from email"
   ]
  },
  {
   "cell_type": "code",
   "execution_count": 4,
   "id": "1378f84d",
   "metadata": {},
   "outputs": [
    {
     "name": "stdout",
     "output_type": "stream",
     "text": [
      "['smartvamshikalyan17@gmail.com', 'vamshi@gmail.com', 'krishna@yahoo.com', 'smart@gmail.com']\n",
      "smartvamshikalyan17\n",
      "vamshi\n",
      "krishna\n",
      "smart\n"
     ]
    }
   ],
   "source": [
    "import re\n",
    "mail = \"smartvamshikalyan17@gmail.com,vamshi@gmail.com krishna@yahoo.com:smart@gmail.com\"\n",
    "li = re.split(',|:| ', mail)\n",
    "print(li)\n",
    "\n",
    "for i in li:\n",
    "    string = \"\"\n",
    "    for j in i:\n",
    "        if j == '@':\n",
    "            break\n",
    "        string += j\n",
    "    print(string.strip())\n"
   ]
  },
  {
   "cell_type": "code",
   "execution_count": 48,
   "id": "3266e508",
   "metadata": {},
   "outputs": [
    {
     "name": "stdout",
     "output_type": "stream",
     "text": [
      "[21, 15, 10, 6, 3, 1]\n",
      "[7, 13, 18, 22, 25, 27]\n",
      "[7, 13, 10, 6, 3, 1]\n",
      "13\n"
     ]
    }
   ],
   "source": [
    "li = [1, 2, 3, 4, 5, 6, 7]\n",
    "l = []\n",
    "for i in range(len(li)-1, 0, -1):\n",
    "    l.append(sum(li[0:i]))\n",
    "print(l)\n",
    "r = []\n",
    "li.sort(reverse = True)\n",
    "for i in range(1, len(li)):\n",
    "    r.append(sum(li[0:i]))\n",
    "print(r)\n",
    "mx = []\n",
    "for i in range(len(l)):\n",
    "    mx.append(min(l[i], r[i]))\n",
    "print(mx)\n",
    "print(max(mx))"
   ]
  },
  {
   "cell_type": "code",
   "execution_count": 134,
   "id": "d8943537",
   "metadata": {},
   "outputs": [
    {
     "name": "stdout",
     "output_type": "stream",
     "text": [
      "[[1, 2, 3, 5, -6, 4], [10]]\n",
      "1\n"
     ]
    }
   ],
   "source": [
    "# li = [1, 2, 0, -3, -4, 2, 0, -3, 4, 5, 0, 3, 4, -1]\n",
    "li = [1, 2, 3, 5, -6, 4, 0, 10]\n",
    "li2 = []\n",
    "count = 0\n",
    "b = 0\n",
    "c = 0\n",
    "l = []\n",
    "i = 0\n",
    "if 0 in li:\n",
    "    while i < len(li):\n",
    "        if li[i] == 0:\n",
    "            li2.append(l)\n",
    "            l = []\n",
    "            b += 1\n",
    "            c = 0\n",
    "            i += 1\n",
    "            continue\n",
    "        if i == len(li)-1:\n",
    "            l.append(li[i])\n",
    "            li2.append(l)\n",
    "            break\n",
    "        l.append(li[i])\n",
    "        i += 1\n",
    "else:\n",
    "    for i in range(len(li)):\n",
    "        if li[i] < 0:\n",
    "            count += 1\n",
    "    if count%2 == 0:\n",
    "        print(len(li))\n",
    "    else:\n",
    "        print(count)\n",
    "print(li2)\n",
    "if len(li2) > 0:\n",
    "    count = 0\n",
    "    for i in li2:\n",
    "        if len(i) > 1:\n",
    "            for j in i:\n",
    "                if j < 0:\n",
    "                    count += 1\n",
    "                    \n",
    "            if count%2 == 0:\n",
    "                print(len(i))\n",
    "            else:\n",
    "                i.sort()\n",
    "                print(len(i[1:count+1]))"
   ]
  },
  {
   "cell_type": "markdown",
   "id": "818f751f",
   "metadata": {},
   "source": [
    "# Kandanes Algorithm\n",
    "- Maximum sum of continuous subrray"
   ]
  },
  {
   "cell_type": "code",
   "execution_count": 20,
   "id": "632ac46b",
   "metadata": {},
   "outputs": [
    {
     "name": "stdout",
     "output_type": "stream",
     "text": [
      "-1\n",
      "1\n",
      "max =  1\n",
      "-2\n",
      "4\n",
      "max =  4\n",
      "3\n",
      "5\n",
      "max =  5\n",
      "6\n",
      "max =  6\n",
      "1\n",
      "5\n"
     ]
    }
   ],
   "source": [
    "a = [-1, 1, -3, 4, -1, 2, 1, -5, 4]\n",
    "sum = 0\n",
    "mx = a[0]\n",
    "for i in a:\n",
    "    if sum < 0:\n",
    "        sum = 0\n",
    "    sum += i\n",
    "    print(sum)\n",
    "    if sum > mx:\n",
    "        mx = sum\n",
    "        print(\"max = \", mx)"
   ]
  },
  {
   "cell_type": "code",
   "execution_count": 21,
   "id": "c59be433",
   "metadata": {},
   "outputs": [
    {
     "name": "stdout",
     "output_type": "stream",
     "text": [
      "6\n"
     ]
    }
   ],
   "source": [
    "print(mx)"
   ]
  },
  {
   "cell_type": "code",
   "execution_count": null,
   "id": "66556808",
   "metadata": {},
   "outputs": [],
   "source": []
  }
 ],
 "metadata": {
  "kernelspec": {
   "display_name": "Python 3 (ipykernel)",
   "language": "python",
   "name": "python3"
  },
  "language_info": {
   "codemirror_mode": {
    "name": "ipython",
    "version": 3
   },
   "file_extension": ".py",
   "mimetype": "text/x-python",
   "name": "python",
   "nbconvert_exporter": "python",
   "pygments_lexer": "ipython3",
   "version": "3.9.11"
  }
 },
 "nbformat": 4,
 "nbformat_minor": 5
}
