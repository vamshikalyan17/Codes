{
 "cells": [
  {
   "cell_type": "markdown",
   "id": "a0bf327f",
   "metadata": {},
   "source": [
    "# Simple codes"
   ]
  },
  {
   "cell_type": "code",
   "execution_count": 1,
   "id": "5bc148af",
   "metadata": {},
   "outputs": [
    {
     "name": "stdout",
     "output_type": "stream",
     "text": [
      "15\n",
      "6\n",
      "14\n",
      "[7, 8]\n"
     ]
    }
   ],
   "source": [
    "from functools import reduce\n",
    "import re\n",
    "li = [1, 2, 3, 4, 5]\n",
    "s = reduce((lambda a, b: a + b), li)\n",
    "print(s)\n",
    "\n",
    "st = \"Hello vamshlllli\"\n",
    "f = re.findall(\"l\", st)\n",
    "print(len(f))\n",
    "g = \"78\"\n",
    "a = max(g)\n",
    "b = max(str(ord(\"A\")))\n",
    "print(int(a)+int(b))\n",
    "li = []\n",
    "for i in g:\n",
    "    li.append(int(i))\n",
    "print(li)"
   ]
  },
  {
   "cell_type": "markdown",
   "id": "8511caa8",
   "metadata": {},
   "source": [
    "# File Operations"
   ]
  },
  {
   "cell_type": "code",
   "execution_count": 2,
   "id": "19631b44",
   "metadata": {},
   "outputs": [
    {
     "name": "stdout",
     "output_type": "stream",
     "text": [
      "Hello Vamshi Krishna\n",
      "    How are you man\n",
      "    What's upp\n",
      "['Hello Vamshi Krishna', 'How are you man', \"What's upp\"]\n",
      "True\n"
     ]
    }
   ],
   "source": [
    "with open(\"t1.txt\", 'w') as f:\n",
    "    f.write(\"\"\"Hello Vamshi Krishna\n",
    "    How are you man\n",
    "    What's upp\"\"\")\n",
    "f = open(\"t1.txt\", 'r')\n",
    "print(f.read())\n",
    "f.close()\n",
    "li = []\n",
    "with open(\"t1.txt\", 'r') as f:\n",
    "    r = f.readlines() # return in list\n",
    "    for i in r:\n",
    "        li.append(i.strip())\n",
    "f.close()\n",
    "print(li)\n",
    "a = \"Hello55\"\n",
    "print(a.isalnum())"
   ]
  },
  {
   "cell_type": "markdown",
   "id": "96881f91",
   "metadata": {},
   "source": [
    "# Word Count"
   ]
  },
  {
   "cell_type": "code",
   "execution_count": 3,
   "id": "23a74d53",
   "metadata": {},
   "outputs": [
    {
     "name": "stdout",
     "output_type": "stream",
     "text": [
      "2\n",
      "vamshi 2\n",
      "krishna 3\n",
      "kalyan 1\n",
      "smart 1\n",
      "vamshikrishnakalyansmart\n"
     ]
    }
   ],
   "source": [
    "string = \"vamshi krishna vamshi kalyan smart krishna krishna\"\n",
    "li = string.split(' ')\n",
    "print(li.count(\"vamshi\"))\n",
    "s = \"\"\n",
    "for i in li:\n",
    "    count = 0\n",
    "    if i not in s:\n",
    "        for j in li:\n",
    "            if i == j:\n",
    "                count += 1\n",
    "        s += i\n",
    "        print(i, count)\n",
    "print(s)\n"
   ]
  },
  {
   "cell_type": "markdown",
   "id": "b9d80c22",
   "metadata": {},
   "source": [
    "# Remove name from email"
   ]
  },
  {
   "cell_type": "code",
   "execution_count": 4,
   "id": "1378f84d",
   "metadata": {},
   "outputs": [
    {
     "name": "stdout",
     "output_type": "stream",
     "text": [
      "['smartvamshikalyan17@gmail.com', 'vamshi@gmail.com', 'krishna@yahoo.com', 'smart@gmail.com']\n",
      "smartvamshikalyan17\n",
      "vamshi\n",
      "krishna\n",
      "smart\n"
     ]
    }
   ],
   "source": [
    "import re\n",
    "mail = \"smartvamshikalyan17@gmail.com,vamshi@gmail.com krishna@yahoo.com:smart@gmail.com\"\n",
    "li = re.split(',|:| ', mail)\n",
    "print(li)\n",
    "\n",
    "for i in li:\n",
    "    string = \"\"\n",
    "    for j in i:\n",
    "        if j == '@':\n",
    "            break\n",
    "        string += j\n",
    "    print(string.strip())\n"
   ]
  },
  {
   "cell_type": "code",
   "execution_count": null,
   "id": "3266e508",
   "metadata": {},
   "outputs": [],
   "source": []
  }
 ],
 "metadata": {
  "kernelspec": {
   "display_name": "Python 3 (ipykernel)",
   "language": "python",
   "name": "python3"
  },
  "language_info": {
   "codemirror_mode": {
    "name": "ipython",
    "version": 3
   },
   "file_extension": ".py",
   "mimetype": "text/x-python",
   "name": "python",
   "nbconvert_exporter": "python",
   "pygments_lexer": "ipython3",
   "version": "3.9.11"
  }
 },
 "nbformat": 4,
 "nbformat_minor": 5
}
